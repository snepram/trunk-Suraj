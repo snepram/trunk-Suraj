{
 "cells": [
  {
   "cell_type": "code",
   "execution_count": 1,
   "id": "34c48288",
   "metadata": {},
   "outputs": [],
   "source": [
    "##.ipynb\n",
    "##.py\n",
    "## Jupyter Labs\n"
   ]
  },
  {
   "cell_type": "code",
   "execution_count": 2,
   "id": "2937665e",
   "metadata": {},
   "outputs": [],
   "source": [
    "##IDE\n",
    "##VScode\n",
    "##Py Charm\n",
    "##Spyder"
   ]
  },
  {
   "cell_type": "markdown",
   "id": "76b7ef8a",
   "metadata": {},
   "source": [
    "Addition"
   ]
  },
  {
   "cell_type": "code",
   "execution_count": 4,
   "id": "3899c7da",
   "metadata": {},
   "outputs": [
    {
     "data": {
      "text/plain": [
       "9"
      ]
     },
     "execution_count": 4,
     "metadata": {},
     "output_type": "execute_result"
    }
   ],
   "source": [
    "4+5"
   ]
  },
  {
   "cell_type": "code",
   "execution_count": null,
   "id": "c2e54904",
   "metadata": {},
   "outputs": [],
   "source": []
  },
  {
   "cell_type": "markdown",
   "id": "3764804e",
   "metadata": {},
   "source": [
    "# Header1\n",
    "## Header2\n",
    "###### Header3"
   ]
  },
  {
   "cell_type": "code",
   "execution_count": null,
   "id": "c3b1f287-abcf-4df7-9d87-b341b11e051c",
   "metadata": {},
   "outputs": [],
   "source": []
  },
  {
   "cell_type": "code",
   "execution_count": null,
   "id": "7442e0d3",
   "metadata": {},
   "outputs": [],
   "source": []
  },
  {
   "cell_type": "markdown",
   "id": "72f35af1",
   "metadata": {},
   "source": [
    "# basic data Tyes\n",
    "int\n",
    "float\n",
    "complex\n",
    "string\n",
    "bool"
   ]
  },
  {
   "cell_type": "code",
   "execution_count": 12,
   "id": "8a0205c4",
   "metadata": {},
   "outputs": [
    {
     "name": "stderr",
     "output_type": "stream",
     "text": [
      "ic| type(rollno): <class 'int'>\n",
      "ic| status: True, type(status): <class 'bool'>\n"
     ]
    },
    {
     "name": "stdout",
     "output_type": "stream",
     "text": [
      "<class 'int'>\n",
      "<class 'float'>\n",
      "1.0 <class 'float'>\n",
      "(3+5j) <class 'complex'>\n"
     ]
    }
   ],
   "source": [
    "from icecream import ic\n",
    "rollno=1 #int\n",
    "print(type(rollno))\n",
    "ic(type(rollno))\n",
    "rollno=1.0 #float\n",
    "print(type(rollno))\n",
    "print(rollno,type(rollno))\n",
    "status=True\n",
    "ic(status,type(status))\n",
    "c_type=3+5j\n",
    "print(c_type,type(c_type))\n"
   ]
  },
  {
   "cell_type": "code",
   "execution_count": 14,
   "id": "c4f10995",
   "metadata": {},
   "outputs": [
    {
     "data": {
      "text/plain": [
       "1.2345678909909898"
      ]
     },
     "execution_count": 14,
     "metadata": {},
     "output_type": "execute_result"
    }
   ],
   "source": [
    "#Size of numeric allowed is based on the hardware of the system--32.64 bits\n",
    "#Decimal Point--only 15 digits or points are stored\n",
    "f=1.234567890990989877777777776\n",
    "f"
   ]
  },
  {
   "cell_type": "code",
   "execution_count": 15,
   "id": "eacbbe8e",
   "metadata": {},
   "outputs": [
    {
     "data": {
      "text/plain": [
       "'Hello'"
      ]
     },
     "execution_count": 15,
     "metadata": {},
     "output_type": "execute_result"
    }
   ],
   "source": [
    "## String Datatype\n",
    "str1='Hello'\n",
    "str1"
   ]
  },
  {
   "cell_type": "code",
   "execution_count": 19,
   "id": "c02cb49b",
   "metadata": {},
   "outputs": [
    {
     "data": {
      "text/plain": [
       "'Hello'"
      ]
     },
     "execution_count": 19,
     "metadata": {},
     "output_type": "execute_result"
    }
   ],
   "source": [
    "str2='''Hello'''\n",
    "str3=\"Hello\"\n",
    "str4=\"\"\"Hello\"\"\"\n",
    "str2"
   ]
  },
  {
   "cell_type": "code",
   "execution_count": 17,
   "id": "e6ff3007",
   "metadata": {},
   "outputs": [
    {
     "data": {
      "text/plain": [
       "'Hello'"
      ]
     },
     "execution_count": 17,
     "metadata": {},
     "output_type": "execute_result"
    }
   ],
   "source": [
    "str3"
   ]
  },
  {
   "cell_type": "code",
   "execution_count": 20,
   "id": "2fd0640e",
   "metadata": {},
   "outputs": [
    {
     "data": {
      "text/plain": [
       "'Hello'"
      ]
     },
     "execution_count": 20,
     "metadata": {},
     "output_type": "execute_result"
    }
   ],
   "source": [
    "str4"
   ]
  },
  {
   "cell_type": "code",
   "execution_count": 21,
   "id": "16b233c9",
   "metadata": {},
   "outputs": [],
   "source": [
    "text ='this\\'s python class'"
   ]
  },
  {
   "cell_type": "code",
   "execution_count": 22,
   "id": "0c755b23",
   "metadata": {},
   "outputs": [
    {
     "data": {
      "text/plain": [
       "\"this's python class\""
      ]
     },
     "execution_count": 22,
     "metadata": {},
     "output_type": "execute_result"
    }
   ],
   "source": [
    "text"
   ]
  },
  {
   "cell_type": "code",
   "execution_count": 23,
   "id": "9dca5349",
   "metadata": {},
   "outputs": [],
   "source": [
    "text2='this\\'s python \\nclass'"
   ]
  },
  {
   "cell_type": "code",
   "execution_count": 25,
   "id": "d8e23e3f",
   "metadata": {},
   "outputs": [
    {
     "name": "stderr",
     "output_type": "stream",
     "text": [
      "ic| text2: \"this's python \n",
      "            class\"\n"
     ]
    },
    {
     "data": {
      "text/plain": [
       "\"this's python \\nclass\""
      ]
     },
     "execution_count": 25,
     "metadata": {},
     "output_type": "execute_result"
    }
   ],
   "source": [
    "ic(text2)"
   ]
  },
  {
   "cell_type": "code",
   "execution_count": 26,
   "id": "632e58c8",
   "metadata": {},
   "outputs": [
    {
     "name": "stdout",
     "output_type": "stream",
     "text": [
      "this's python \n",
      "class\n"
     ]
    }
   ],
   "source": [
    "print(text2)"
   ]
  },
  {
   "cell_type": "code",
   "execution_count": 27,
   "id": "fb3abbca",
   "metadata": {},
   "outputs": [],
   "source": [
    "text3='This a \"poem\"'"
   ]
  },
  {
   "cell_type": "code",
   "execution_count": 28,
   "id": "999419d1",
   "metadata": {},
   "outputs": [
    {
     "data": {
      "text/plain": [
       "'This a \"poem\"'"
      ]
     },
     "execution_count": 28,
     "metadata": {},
     "output_type": "execute_result"
    }
   ],
   "source": [
    "text3"
   ]
  },
  {
   "cell_type": "code",
   "execution_count": 33,
   "id": "c84a8ea5",
   "metadata": {},
   "outputs": [
    {
     "data": {
      "text/plain": [
       "'\\nHello abc\\nblah \\nblahhh\\n'"
      ]
     },
     "execution_count": 33,
     "metadata": {},
     "output_type": "execute_result"
    }
   ],
   "source": [
    "#Triple Quotes for Multi-Line Strings\n",
    "ABC='''\n",
    "Hello abc\n",
    "blah \n",
    "blahhh\n",
    "'''\n",
    "ABC"
   ]
  },
  {
   "cell_type": "code",
   "execution_count": 37,
   "id": "31fd37c2",
   "metadata": {},
   "outputs": [
    {
     "name": "stdout",
     "output_type": "stream",
     "text": [
      "\n",
      "HELLO ABC\n",
      "BLAH \n",
      "BLAHHH\n",
      "\n"
     ]
    }
   ],
   "source": [
    "print(ABC.upper())"
   ]
  },
  {
   "cell_type": "code",
   "execution_count": 35,
   "id": "34b176ac",
   "metadata": {},
   "outputs": [
    {
     "name": "stdout",
     "output_type": "stream",
     "text": [
      "\n",
      "Hello abc\n",
      "blah \n",
      "blahhh\n",
      "\n"
     ]
    }
   ],
   "source": [
    "print(ABC)"
   ]
  },
  {
   "cell_type": "markdown",
   "id": "fd0eabc0",
   "metadata": {},
   "source": [
    "# Properties of String\n",
    "  ### Strings are immutable\n",
    "  ### Strings can be concatenated\n",
    "  ### indexing and slicing can be performed"
   ]
  },
  {
   "cell_type": "code",
   "execution_count": 38,
   "id": "6027fe18",
   "metadata": {},
   "outputs": [],
   "source": [
    "abc='abcdefghij'"
   ]
  },
  {
   "cell_type": "code",
   "execution_count": 39,
   "id": "6dfd42bb",
   "metadata": {},
   "outputs": [
    {
     "data": {
      "text/plain": [
       "'bc'"
      ]
     },
     "execution_count": 39,
     "metadata": {},
     "output_type": "execute_result"
    }
   ],
   "source": [
    "abc[1:3]"
   ]
  },
  {
   "cell_type": "code",
   "execution_count": 42,
   "id": "89335013",
   "metadata": {},
   "outputs": [
    {
     "data": {
      "text/plain": [
       "''"
      ]
     },
     "execution_count": 42,
     "metadata": {},
     "output_type": "execute_result"
    }
   ],
   "source": [
    "abc[-1:-3]"
   ]
  },
  {
   "cell_type": "code",
   "execution_count": 43,
   "id": "219f6135",
   "metadata": {},
   "outputs": [
    {
     "data": {
      "text/plain": [
       "'abcdefghi'"
      ]
     },
     "execution_count": 43,
     "metadata": {},
     "output_type": "execute_result"
    }
   ],
   "source": [
    "abc[:-1]"
   ]
  },
  {
   "cell_type": "code",
   "execution_count": 44,
   "id": "ea4a9980",
   "metadata": {},
   "outputs": [
    {
     "data": {
      "text/plain": [
       "'abcd'"
      ]
     },
     "execution_count": 44,
     "metadata": {},
     "output_type": "execute_result"
    }
   ],
   "source": [
    "abc[0:4]"
   ]
  },
  {
   "cell_type": "code",
   "execution_count": 45,
   "id": "4180ffa5",
   "metadata": {},
   "outputs": [
    {
     "data": {
      "text/plain": [
       "'a'"
      ]
     },
     "execution_count": 45,
     "metadata": {},
     "output_type": "execute_result"
    }
   ],
   "source": [
    "abc[0]"
   ]
  },
  {
   "cell_type": "code",
   "execution_count": 48,
   "id": "893a44a4",
   "metadata": {},
   "outputs": [
    {
     "data": {
      "text/plain": [
       "'f'"
      ]
     },
     "execution_count": 48,
     "metadata": {},
     "output_type": "execute_result"
    }
   ],
   "source": [
    "abc[5]"
   ]
  },
  {
   "cell_type": "code",
   "execution_count": 49,
   "id": "fd4917d1",
   "metadata": {},
   "outputs": [
    {
     "data": {
      "text/plain": [
       "10"
      ]
     },
     "execution_count": 49,
     "metadata": {},
     "output_type": "execute_result"
    }
   ],
   "source": [
    "len(abc)"
   ]
  },
  {
   "cell_type": "code",
   "execution_count": 50,
   "id": "903f3db8",
   "metadata": {},
   "outputs": [],
   "source": [
    "##sclicing <str_varable>[start_indx:end_indx]\n",
    "##end_indx is not included"
   ]
  },
  {
   "cell_type": "code",
   "execution_count": 51,
   "id": "276fa5af",
   "metadata": {},
   "outputs": [],
   "source": [
    "mystring='python 3 is prog. lang.'"
   ]
  },
  {
   "cell_type": "code",
   "execution_count": 52,
   "id": "0c2b71b5",
   "metadata": {},
   "outputs": [
    {
     "data": {
      "text/plain": [
       "' lang'"
      ]
     },
     "execution_count": 52,
     "metadata": {},
     "output_type": "execute_result"
    }
   ],
   "source": [
    "mystring[-5:]"
   ]
  },
  {
   "cell_type": "code",
   "execution_count": 53,
   "id": "9317c9c9",
   "metadata": {},
   "outputs": [
    {
     "data": {
      "text/plain": [
       "'. lang'"
      ]
     },
     "execution_count": 53,
     "metadata": {},
     "output_type": "execute_result"
    }
   ],
   "source": [
    "mystring[-6:]"
   ]
  },
  {
   "cell_type": "code",
   "execution_count": 54,
   "id": "aa17266e",
   "metadata": {},
   "outputs": [
    {
     "data": {
      "text/plain": [
       "'lang'"
      ]
     },
     "execution_count": 54,
     "metadata": {},
     "output_type": "execute_result"
    }
   ],
   "source": [
    "mystring[-4:]"
   ]
  },
  {
   "cell_type": "code",
   "execution_count": 56,
   "id": "fca2c27c",
   "metadata": {},
   "outputs": [
    {
     "data": {
      "text/plain": [
       "'lan'"
      ]
     },
     "execution_count": 56,
     "metadata": {},
     "output_type": "execute_result"
    }
   ],
   "source": [
    "mystring[-4:-1]"
   ]
  },
  {
   "cell_type": "code",
   "execution_count": 57,
   "id": "e0393a19",
   "metadata": {},
   "outputs": [
    {
     "data": {
      "text/plain": [
       "'This is java'"
      ]
     },
     "execution_count": 57,
     "metadata": {},
     "output_type": "execute_result"
    }
   ],
   "source": [
    "Stringk=\"This is python\"\n",
    "Stringk.replace(\"python\",\"java\")"
   ]
  },
  {
   "cell_type": "markdown",
   "id": "d942b04d",
   "metadata": {},
   "source": [
    "# ABC\n",
    "- blah\n",
    "- blah\n",
    "* blah2\n",
    "* blah3\n"
   ]
  },
  {
   "cell_type": "code",
   "execution_count": null,
   "id": "bb86fcfe",
   "metadata": {},
   "outputs": [],
   "source": [
    "What is VCS\n",
    "Version Control System\n",
    "Centralized VCS\n",
    "Distributed VCS(Decentralized)"
   ]
  }
 ],
 "metadata": {
  "kernelspec": {
   "display_name": "Python 3",
   "language": "python",
   "name": "python3"
  },
  "language_info": {
   "codemirror_mode": {
    "name": "ipython",
    "version": 3
   },
   "file_extension": ".py",
   "mimetype": "text/x-python",
   "name": "python",
   "nbconvert_exporter": "python",
   "pygments_lexer": "ipython3",
   "version": "3.8.8"
  }
 },
 "nbformat": 4,
 "nbformat_minor": 5
}
