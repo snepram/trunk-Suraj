{
 "cells": [
  {
   "cell_type": "code",
   "execution_count": 1,
   "id": "34c48288",
   "metadata": {},
   "outputs": [],
   "source": [
    "##.ipynb\n",
    "##.py\n",
    "## Jupyter Labs\n"
   ]
  },
  {
   "cell_type": "code",
   "execution_count": 2,
   "id": "2937665e",
   "metadata": {},
   "outputs": [],
   "source": [
    "##IDE\n",
    "##VScode\n",
    "##Py Charm\n",
    "##Spyder"
   ]
  },
  {
   "cell_type": "markdown",
   "id": "76b7ef8a",
   "metadata": {},
   "source": [
    "Addition"
   ]
  },
  {
   "cell_type": "code",
   "execution_count": 4,
   "id": "3899c7da",
   "metadata": {},
   "outputs": [
    {
     "data": {
      "text/plain": [
       "9"
      ]
     },
     "execution_count": 4,
     "metadata": {},
     "output_type": "execute_result"
    }
   ],
   "source": [
    "4+5"
   ]
  },
  {
   "cell_type": "code",
   "execution_count": null,
   "id": "c2e54904",
   "metadata": {},
   "outputs": [],
   "source": []
  },
  {
   "cell_type": "markdown",
   "id": "3764804e",
   "metadata": {},
   "source": [
    "# Header1\n",
    "## Header2\n",
    "###### Header3"
   ]
  },
  {
   "cell_type": "code",
   "execution_count": null,
   "id": "c3b1f287-abcf-4df7-9d87-b341b11e051c",
   "metadata": {},
   "outputs": [],
   "source": []
  },
  {
   "cell_type": "code",
   "execution_count": null,
   "id": "513a8d85",
   "metadata": {},
   "outputs": [],
   "source": []
  },
  {
   "cell_type": "markdown",
   "id": "cdf22af8",
   "metadata": {},
   "source": [
    "# basic data Tyes\n",
    "int\n",
    "float\n",
    "complex\n",
    "string\n",
    "bool"
   ]
  },
  {
   "cell_type": "code",
   "execution_count": 12,
   "id": "5ddd3a6b",
   "metadata": {},
   "outputs": [
    {
     "name": "stderr",
     "output_type": "stream",
     "text": [
      "ic| type(rollno): <class 'int'>\n",
      "ic| status: True, type(status): <class 'bool'>\n"
     ]
    },
    {
     "name": "stdout",
     "output_type": "stream",
     "text": [
      "<class 'int'>\n",
      "<class 'float'>\n",
      "1.0 <class 'float'>\n",
      "(3+5j) <class 'complex'>\n"
     ]
    }
   ],
   "source": [
    "from icecream import ic\n",
    "rollno=1 #int\n",
    "print(type(rollno))\n",
    "ic(type(rollno))\n",
    "rollno=1.0 #float\n",
    "print(type(rollno))\n",
    "print(rollno,type(rollno))\n",
    "status=True\n",
    "ic(status,type(status))\n",
    "c_type=3+5j\n",
    "print(c_type,type(c_type))\n"
   ]
  },
  {
   "cell_type": "code",
   "execution_count": 14,
   "id": "0d68e620",
   "metadata": {},
   "outputs": [
    {
     "data": {
      "text/plain": [
       "1.2345678909909898"
      ]
     },
     "execution_count": 14,
     "metadata": {},
     "output_type": "execute_result"
    }
   ],
   "source": [
    "#Size of numeric allowed is based on the hardware of the system--32.64 bits\n",
    "#Decimal Point--only 15 digits or points are stored\n",
    "f=1.234567890990989877777777776\n",
    "f"
   ]
  },
  {
   "cell_type": "code",
   "execution_count": 15,
   "id": "441029d7",
   "metadata": {},
   "outputs": [
    {
     "data": {
      "text/plain": [
       "'Hello'"
      ]
     },
     "execution_count": 15,
     "metadata": {},
     "output_type": "execute_result"
    }
   ],
   "source": [
    "## String Datatype\n",
    "str1='Hello'\n",
    "str1"
   ]
  },
  {
   "cell_type": "code",
   "execution_count": 19,
   "id": "d73c37a7",
   "metadata": {},
   "outputs": [
    {
     "data": {
      "text/plain": [
       "'Hello'"
      ]
     },
     "execution_count": 19,
     "metadata": {},
     "output_type": "execute_result"
    }
   ],
   "source": [
    "str2='''Hello'''\n",
    "str3=\"Hello\"\n",
    "str4=\"\"\"Hello\"\"\"\n",
    "str2"
   ]
  },
  {
   "cell_type": "code",
   "execution_count": 17,
   "id": "43e4cbfd",
   "metadata": {},
   "outputs": [
    {
     "data": {
      "text/plain": [
       "'Hello'"
      ]
     },
     "execution_count": 17,
     "metadata": {},
     "output_type": "execute_result"
    }
   ],
   "source": [
    "str3"
   ]
  },
  {
   "cell_type": "code",
   "execution_count": 20,
   "id": "7542bb61",
   "metadata": {},
   "outputs": [
    {
     "data": {
      "text/plain": [
       "'Hello'"
      ]
     },
     "execution_count": 20,
     "metadata": {},
     "output_type": "execute_result"
    }
   ],
   "source": [
    "str4"
   ]
  },
  {
   "cell_type": "code",
   "execution_count": 21,
   "id": "b6d61ed6",
   "metadata": {},
   "outputs": [],
   "source": [
    "text ='this\\'s python class'"
   ]
  },
  {
   "cell_type": "code",
   "execution_count": 22,
   "id": "3af022be",
   "metadata": {},
   "outputs": [
    {
     "data": {
      "text/plain": [
       "\"this's python class\""
      ]
     },
     "execution_count": 22,
     "metadata": {},
     "output_type": "execute_result"
    }
   ],
   "source": [
    "text"
   ]
  },
  {
   "cell_type": "code",
   "execution_count": 23,
   "id": "48e5f133",
   "metadata": {},
   "outputs": [],
   "source": [
    "text2='this\\'s python \\nclass'"
   ]
  },
  {
   "cell_type": "code",
   "execution_count": 25,
   "id": "41b014a1",
   "metadata": {},
   "outputs": [
    {
     "name": "stderr",
     "output_type": "stream",
     "text": [
      "ic| text2: \"this's python \n",
      "            class\"\n"
     ]
    },
    {
     "data": {
      "text/plain": [
       "\"this's python \\nclass\""
      ]
     },
     "execution_count": 25,
     "metadata": {},
     "output_type": "execute_result"
    }
   ],
   "source": [
    "ic(text2)"
   ]
  },
  {
   "cell_type": "code",
   "execution_count": 26,
   "id": "c8ec89f0",
   "metadata": {},
   "outputs": [
    {
     "name": "stdout",
     "output_type": "stream",
     "text": [
      "this's python \n",
      "class\n"
     ]
    }
   ],
   "source": [
    "print(text2)"
   ]
  },
  {
   "cell_type": "code",
   "execution_count": 27,
   "id": "a5175224",
   "metadata": {},
   "outputs": [],
   "source": [
    "text3='This a \"poem\"'"
   ]
  },
  {
   "cell_type": "code",
   "execution_count": 28,
   "id": "fd699c6f",
   "metadata": {},
   "outputs": [
    {
     "data": {
      "text/plain": [
       "'This a \"poem\"'"
      ]
     },
     "execution_count": 28,
     "metadata": {},
     "output_type": "execute_result"
    }
   ],
   "source": [
    "text3"
   ]
  },
  {
   "cell_type": "code",
   "execution_count": 33,
   "id": "af331bc5",
   "metadata": {},
   "outputs": [
    {
     "data": {
      "text/plain": [
       "'\\nHello abc\\nblah \\nblahhh\\n'"
      ]
     },
     "execution_count": 33,
     "metadata": {},
     "output_type": "execute_result"
    }
   ],
   "source": [
    "#Triple Quotes for Multi-Line Strings\n",
    "ABC='''\n",
    "Hello abc\n",
    "blah \n",
    "blahhh\n",
    "'''\n",
    "ABC"
   ]
  },
  {
   "cell_type": "code",
   "execution_count": 34,
   "id": "7f398d1d",
   "metadata": {},
   "outputs": [
    {
     "data": {
      "text/plain": [
       "'\\nHello abc\\nblah \\nblahhh\\n'"
      ]
     },
     "execution_count": 34,
     "metadata": {},
     "output_type": "execute_result"
    }
   ],
   "source": [
    "ABC"
   ]
  },
  {
   "cell_type": "code",
   "execution_count": 35,
   "id": "8b271134",
   "metadata": {},
   "outputs": [
    {
     "name": "stdout",
     "output_type": "stream",
     "text": [
      "\n",
      "Hello abc\n",
      "blah \n",
      "blahhh\n",
      "\n"
     ]
    }
   ],
   "source": [
    "print(ABC)"
   ]
  },
  {
   "cell_type": "code",
   "execution_count": null,
   "id": "b9ff6ddf",
   "metadata": {},
   "outputs": [],
   "source": []
  }
 ],
 "metadata": {
  "kernelspec": {
   "display_name": "Python 3",
   "language": "python",
   "name": "python3"
  },
  "language_info": {
   "codemirror_mode": {
    "name": "ipython",
    "version": 3
   },
   "file_extension": ".py",
   "mimetype": "text/x-python",
   "name": "python",
   "nbconvert_exporter": "python",
   "pygments_lexer": "ipython3",
   "version": "3.8.8"
  }
 },
 "nbformat": 4,
 "nbformat_minor": 5
}
